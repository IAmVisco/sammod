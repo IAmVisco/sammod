{
 "cells": [
  {
   "cell_type": "code",
   "execution_count": 1,
   "metadata": {},
   "outputs": [],
   "source": [
    "import numpy as np\n",
    "import matplotlib.pyplot as plt"
   ]
  },
  {
   "cell_type": "code",
   "execution_count": 2,
   "metadata": {},
   "outputs": [],
   "source": [
    "COLORMAP = 'gist_rainbow'\n",
    "DEFAULT_M = 2**32\n",
    "DEFAULT_A = 1103515245\n",
    "DEFAULT_C = 12345\n",
    "LAMBDA = 0.5\n",
    "SAMPLES_AMOUNT = 50000\n",
    "QUARTER_OF_PI = np.pi / 4"
   ]
  },
  {
   "cell_type": "code",
   "execution_count": 3,
   "metadata": {},
   "outputs": [],
   "source": [
    "def lcg(m=DEFAULT_M, a=DEFAULT_A, c=DEFAULT_C):\n",
    "    lcg.current = (a * lcg.current + c) % m\n",
    "    return lcg.current / m\n",
    "\n",
    "def ravnomer(a, b):\n",
    "    return a + np.random.randint(0, 1) * (b - a)\n",
    "\n",
    "def gauss():\n",
    "    mean = gauss.array.mean()\n",
    "    dispersion = gauss.array.var()\n",
    "    sig = gauss.array.std()\n",
    "    sum = sum(np.random.randint(0, 1, len(gauss.array)))\n",
    "    el = mean + sig * sqrt(12 / len(gauss.array)) * (sum - len(gauss.array) / 2)\n",
    "    gauss.array.push(el)\n",
    "    return el\n",
    "\n",
    "def exponent(lamb=LAMBDA):\n",
    "    return -1/lamb * ln(np.random.randint(0, 1))\n",
    "\n",
    "def gamma(lamb=LAMBDA):\n",
    "    mult = 1\n",
    "    for num in np.random.randint(0, 1, len(gamma.len)):\n",
    "        mult = mult * num\n",
    "    gamma.len = gamma.len + 1\n",
    "    return -1 / lamb * ln(mult)\n",
    "\n",
    "def treugol(a, b):\n",
    "    rand1 = np.random.randint(0, 1)\n",
    "    rand2 = np.random.randint(0, 1)\n",
    "    while rand2 >= 1 - rand1:\n",
    "        rand1 = np.random.randint(0, 1)\n",
    "        rand2 = np.random.randint(0, 1)\n",
    "    return a + (b - a) * rand1\n",
    "\n",
    "def simpson(a, b):\n",
    "    return sum(np.random.randint(a / 2, b / 2, 2))\n",
    "        \n",
    "def apply_colormap(bins, patches):\n",
    "    cm = plt.cm.get_cmap(COLORMAP)\n",
    "    bin_centers = 0.5 * (bins[:-1] + bins[1:])\n",
    "    col = bin_centers - min(bin_centers)\n",
    "    col /= max(col)\n",
    "\n",
    "    for c, p in zip(col, patches):\n",
    "        plt.setp(p, 'facecolor', cm(c))\n",
    "\n",
    "def plot_graph(sequence):\n",
    "    plt.rcParams[\"figure.figsize\"] = (20, 10)\n",
    "    n, bins, patches = plt.hist(sequence, bins=20)\n",
    "    plt.xticks(np.arange(0, 1.05, 0.05))\n",
    "    #plt.axhline(y=2500, color='r', linestyle='-')\n",
    "    apply_colormap(bins, patches)\n",
    "    \n",
    "    plt.show()\n",
    "    \n",
    "def get_math_values(sequence):\n",
    "    array = np.array(sequence)\n",
    "    \n",
    "    mean = array.mean()\n",
    "    dispersion = array.var()\n",
    "    sig = array.std()\n",
    "    \n",
    "    print(f\"Мат. ожидание: {mean}\")\n",
    "    print(f\"Дисперсия: {dispersion}\")\n",
    "    print(f\"Средняя квадратическая: {sig}\")"
   ]
  },
  {
   "cell_type": "code",
   "execution_count": 4,
   "metadata": {
    "scrolled": false
   },
   "outputs": [
    {
     "data": {
      "image/png": "[encoded data removed]",
      "text/plain": [
       "<Figure size 1440x720 with 1 Axes>"
      ]
     },
     "metadata": {
      "needs_background": "light"
     },
     "output_type": "display_data"
    },
    {
     "name": "stdout",
     "output_type": "stream",
     "text": [
      "Мат. ожидание: 0.5000552520212158\n",
      "Дисперсия: 0.08361601619461773\n",
      "Средняя квадратическая: 0.2891643411532925\n"
     ]
    }
   ],
   "source": [
    "lcg.current = 1\n",
    "\n",
    "sequence = [lcg() for i in range(SAMPLES_AMOUNT)]\n",
    "\n",
    "plot_graph(sequence)\n",
    "get_math_values(sequence)"
   ]
  },
  {
   "cell_type": "code",
   "execution_count": null,
   "metadata": {},
   "outputs": [],
   "source": []
  },
  {
   "cell_type": "code",
   "execution_count": null,
   "metadata": {},
   "outputs": [],
   "source": []
  },
  {
   "cell_type": "code",
   "execution_count": null,
   "metadata": {},
   "outputs": [],
   "source": []
  }
 ],
 "metadata": {
  "kernelspec": {
   "display_name": "Python 3",
   "language": "python",
   "name": "python3"
  },
  "language_info": {
   "codemirror_mode": {
    "name": "ipython",
    "version": 3
   },
   "file_extension": ".py",
   "mimetype": "text/x-python",
   "name": "python",
   "nbconvert_exporter": "python",
   "pygments_lexer": "ipython3",
   "version": "3.7.4"
  }
 },
 "nbformat": 4,
 "nbformat_minor": 2
}
