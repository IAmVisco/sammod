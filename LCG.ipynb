{
 "cells": [
  {
   "cell_type": "code",
   "execution_count": 1,
   "metadata": {},
   "outputs": [],
   "source": [
    "import numpy as np\n",
    "import matplotlib.pyplot as plt"
   ]
  },
  {
   "cell_type": "code",
   "execution_count": 2,
   "metadata": {},
   "outputs": [],
   "source": [
    "COLORMAP = 'gist_rainbow'\n",
    "DEFAULT_M = 2**32\n",
    "DEFAULT_A = 1103515245\n",
    "DEFAULT_C = 12345\n",
    "SAMPLES_AMOUNT = 50000\n",
    "QUARTER_OF_PI = np.pi / 4"
   ]
  },
  {
   "cell_type": "code",
   "execution_count": 3,
   "metadata": {},
   "outputs": [],
   "source": [
    "def lcg(m=DEFAULT_M, a=DEFAULT_A, c=DEFAULT_C):\n",
    "    lcg.current = (a * lcg.current + c) % m\n",
    "    return lcg.current / m\n",
    "\n",
    "def apply_colormap(bins, patches):\n",
    "    cm = plt.cm.get_cmap(COLORMAP)\n",
    "    bin_centers = 0.5 * (bins[:-1] + bins[1:])\n",
    "    col = bin_centers - min(bin_centers)\n",
    "    col /= max(col)\n",
    "\n",
    "    for c, p in zip(col, patches):\n",
    "        plt.setp(p, 'facecolor', cm(c))\n",
    "\n",
    "def plot_graph(sequence):\n",
    "    plt.rcParams[\"figure.figsize\"] = (20, 10)\n",
    "    n, bins, patches = plt.hist(sequence, bins=20)\n",
    "    plt.xticks(np.arange(0, 1.05, 0.05))\n",
    "    #plt.axhline(y=2500, color='r', linestyle='-')\n",
    "    apply_colormap(bins, patches)\n",
    "    \n",
    "    plt.show()\n",
    "    \n",
    "def get_math_values(sequence):\n",
    "    array = np.array(sequence)\n",
    "    \n",
    "    mean = array.mean()\n",
    "    dispersion = array.var()\n",
    "    sig = array.std()\n",
    "    \n",
    "    print(f\"Мат. ожидание: {mean}\")\n",
    "    print(f\"Дисперсия: {dispersion}\")\n",
    "    print(f\"Средняя квадратическая: {sig}\")\n",
    "    \n",
    "def get_circumstantial_evidence(sequence):\n",
    "    k_pairs = [(sequence[i], sequence[i + 1]) for i in range(0, len(sequence), 2)]\n",
    "    k_list = list(filter(lambda pair: pow(pair[0], 2) + pow(pair[1], 2) < 1, k_pairs))\n",
    "    k = len(k_list)\n",
    "    \n",
    "    print(f\"Проверка по косвенному призанку: {2 * k / SAMPLES_AMOUNT} -> {QUARTER_OF_PI}\")"
   ]
  },
  {
   "cell_type": "code",
   "execution_count": 7,
   "metadata": {
    "scrolled": false
   },
   "outputs": [
    {
     "data": {
      "image/png": "[encoded data removed]",
      "text/plain": [
       "<Figure size 1440x720 with 1 Axes>"
      ]
     },
     "metadata": {
      "needs_background": "light"
     },
     "output_type": "display_data"
    },
    {
     "name": "stdout",
     "output_type": "stream",
     "text": [
      "Мат. ожидание: 0.49999999999999994\n",
      "Дисперсия: 0.027777777777777787\n",
      "Средняя квадратическая: 0.16666666666666669\n"
     ]
    }
   ],
   "source": [
    "lcg.current = 1\n",
    "\n",
    "sequence = [lcg(3, 5) for i in range(SAMPLES_AMOUNT)]\n",
    "\n",
    "plot_graph(sequence)\n",
    "get_math_values(sequence)"
   ]
  },
  {
   "cell_type": "code",
   "execution_count": 5,
   "metadata": {},
   "outputs": [
    {
     "name": "stdout",
     "output_type": "stream",
     "text": [
      "Проверка по косвенному призанку: 0.78544 -> 0.7853981633974483\n"
     ]
    }
   ],
   "source": [
    "get_circumstantial_evidence(sequence)"
   ]
  },
  {
   "cell_type": "code",
   "execution_count": 10,
   "metadata": {},
   "outputs": [
    {
     "name": "stdout",
     "output_type": "stream",
     "text": [
      "2\n"
     ]
    }
   ],
   "source": [
    "def getPeriod(sequence):\n",
    "    xv = sequence[0]\n",
    "    lst = []\n",
    "    for i in range(len(sequence)):\n",
    "        if sequence[i] == xv:\n",
    "            if len(lst) >= 2:\n",
    "                break\n",
    "            lst.append(i)\n",
    "    p = lst[1] - lst[0]\n",
    "    return p\n",
    "\n",
    "print(getPeriod(sequence))"
   ]
  },
  {
   "cell_type": "code",
   "execution_count": null,
   "metadata": {},
   "outputs": [],
   "source": []
  },
  {
   "cell_type": "code",
   "execution_count": null,
   "metadata": {},
   "outputs": [],
   "source": []
  }
 ],
 "metadata": {
  "kernelspec": {
   "display_name": "Python 3",
   "language": "python",
   "name": "python3"
  },
  "language_info": {
   "codemirror_mode": {
    "name": "ipython",
    "version": 3
   },
   "file_extension": ".py",
   "mimetype": "text/x-python",
   "name": "python",
   "nbconvert_exporter": "python",
   "pygments_lexer": "ipython3",
   "version": "3.7.4"
  }
 },
 "nbformat": 4,
 "nbformat_minor": 2
}
